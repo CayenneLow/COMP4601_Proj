{
 "cells": [
  {
   "cell_type": "code",
   "execution_count": 1,
   "metadata": {},
   "outputs": [
    {
     "data": {
      "application/javascript": [
       "\n",
       "require(['notebook/js/codecell'], function(codecell) {\n",
       "  codecell.CodeCell.options_default.highlight_modes[\n",
       "      'magic_text/x-csrc'] = {'reg':[/^%%microblaze/]};\n",
       "  Jupyter.notebook.events.one('kernel_ready.Kernel', function(){\n",
       "      Jupyter.notebook.get_cells().map(function(cell){\n",
       "          if (cell.cell_type == 'code'){ cell.auto_highlight(); } }) ;\n",
       "  });\n",
       "});\n"
      ]
     },
     "metadata": {},
     "output_type": "display_data"
    },
    {
     "name": "stdout",
     "output_type": "stream",
     "text": [
      "pos : 0 len histogram_0 : 0\n",
      "pos : 0 len histogram_1 : 0\n",
      "pos : 1 len histogram_0 : 0\n",
      "pos : 1 len histogram_1 : 0\n",
      "pos : 2 len histogram_0 : 3\n",
      "pos : 2 len histogram_1 : 3\n",
      "pos : 3 len histogram_0 : 1\n",
      "pos : 3 len histogram_1 : 1\n",
      "pos : 4 len histogram_0 : 2\n",
      "pos : 4 len histogram_1 : 2\n"
     ]
    }
   ],
   "source": [
    "# AXILiteS\n",
    "# 0x000 : Control signals\n",
    "#         bit 0  - ap_start (Read/Write/COH)\n",
    "#         bit 1  - ap_done (Read/COR)\n",
    "#         bit 2  - ap_idle (Read)\n",
    "#         bit 3  - ap_ready (Read)\n",
    "#         bit 7  - auto_restart (Read/Write)\n",
    "#         others - reserved\n",
    "# 0x004 : Global Interrupt Enable Register\n",
    "#         bit 0  - Global Interrupt Enable (Read/Write)\n",
    "#         others - reserved\n",
    "# 0x008 : IP Interrupt Enable Register (Read/Write)\n",
    "#         bit 0  - Channel 0 (ap_done)\n",
    "#         bit 1  - Channel 1 (ap_ready)\n",
    "#         others - reserved\n",
    "# 0x00c : IP Interrupt Status Register (Read/TOW)\n",
    "#         bit 0  - Channel 0 (ap_done)\n",
    "#         bit 1  - Channel 1 (ap_ready)\n",
    "#         others - reserved\n",
    "# 0x100 ~\n",
    "# 0x1ff : Memory 'input_length_histogram_V' (64 * 32b)\n",
    "#         Word n : bit [31:0] - input_length_histogram_V[n]\n",
    "# 0x200 ~\n",
    "# 0x2ff : Memory 'output_length_histogram_0_V' (64 * 32b)\n",
    "#         Word n : bit [31:0] - output_length_histogram_0_V[n]\n",
    "# 0x300 ~\n",
    "# 0x3ff : Memory 'output_length_histogram_1_V' (64 * 32b)\n",
    "#         Word n : bit [31:0] - output_length_histogram_1_V[n]\n",
    "# (SC = Self Clear, COR = Clear on Read, TOW = Toggle on Write, COH = Clear on Handshake)\n",
    "\n",
    "from pynq import Overlay\n",
    "\n",
    "overlay = Overlay(\"../bitstream/truncate-tree-test.bit\")\n",
    "overlay.download()\n",
    "\n",
    "truncate_tree = overlay.truncate_tree_0\n",
    "\n",
    "# bit length\n",
    "# L : 2 N : 3\n",
    "# L : 3 N : 1\n",
    "# L : 4 N : 2\n",
    "bit_len = [ 0, 0, 3, 1, 2 ]\n",
    "\n",
    "for idx, n in enumerate(bit_len):\n",
    "    truncate_tree.write(0x100 + 4*idx, n)\n",
    "    \n",
    "# start\n",
    "truncate_tree.write(0x000, 1)\n",
    "\n",
    "from time import sleep\n",
    "\n",
    "sleep(1)\n",
    "\n",
    "for i in range(5):\n",
    "    len_histo_0 = truncate_tree.read(0x200 + 4*i)\n",
    "    len_histo_1 = truncate_tree.read(0x300 + 4*i)\n",
    "    print('pos : ' + str(i) + ' len histogram_0 : ' + str(len_histo_0))\n",
    "    print('pos : ' + str(i) + ' len histogram_1 : ' + str(len_histo_1))"
   ]
  }
 ],
 "metadata": {
  "kernelspec": {
   "display_name": "Python 3",
   "language": "python",
   "name": "python3"
  },
  "language_info": {
   "codemirror_mode": {
    "name": "ipython",
    "version": 3
   },
   "file_extension": ".py",
   "mimetype": "text/x-python",
   "name": "python",
   "nbconvert_exporter": "python",
   "pygments_lexer": "ipython3",
   "version": "3.6.0"
  }
 },
 "nbformat": 4,
 "nbformat_minor": 2
}
