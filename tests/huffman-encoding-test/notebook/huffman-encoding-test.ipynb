{
 "cells": [
  {
   "cell_type": "code",
   "execution_count": 1,
   "metadata": {},
   "outputs": [
    {
     "data": {
      "application/javascript": [
       "\n",
       "require(['notebook/js/codecell'], function(codecell) {\n",
       "  codecell.CodeCell.options_default.highlight_modes[\n",
       "      'magic_text/x-csrc'] = {'reg':[/^%%microblaze/]};\n",
       "  Jupyter.notebook.events.one('kernel_ready.Kernel', function(){\n",
       "      Jupyter.notebook.get_cells().map(function(cell){\n",
       "          if (cell.cell_type == 'code'){ cell.auto_highlight(); } }) ;\n",
       "  });\n",
       "});\n"
      ]
     },
     "metadata": {},
     "output_type": "display_data"
    },
    {
     "name": "stdout",
     "output_type": "stream",
     "text": [
      "There are 6 symbols in huffman tree:\n",
      "symbol : a, code word : 00000000000000000000000000000010\n",
      "symbol : b, code word : 00000000000000000000000011100100\n",
      "symbol : c, code word : 00000000000000000000000001100011\n",
      "symbol : d, code word : 00000000000000000000000001000010\n",
      "symbol : e, code word : 00000000000000000000000000100010\n",
      "symbol : f, code word : 00000000000000000000000111100100\n",
      "symbol : g, code word : 00000000000000000000000000000000\n"
     ]
    }
   ],
   "source": [
    "# AXILiteS\n",
    "# 0x0000 : Control signals\n",
    "#          bit 0  - ap_start (Read/Write/COH)\n",
    "#          bit 1  - ap_done (Read/COR)\n",
    "#          bit 2  - ap_idle (Read)\n",
    "#          bit 3  - ap_ready (Read)\n",
    "#          bit 7  - auto_restart (Read/Write)\n",
    "#          others - reserved\n",
    "# 0x0004 : Global Interrupt Enable Register\n",
    "#          bit 0  - Global Interrupt Enable (Read/Write)\n",
    "#          others - reserved\n",
    "# 0x0008 : IP Interrupt Enable Register (Read/Write)\n",
    "#          bit 0  - Channel 0 (ap_done)\n",
    "#          bit 1  - Channel 1 (ap_ready)\n",
    "#          others - reserved\n",
    "# 0x000c : IP Interrupt Status Register (Read/TOW)\n",
    "#          bit 0  - Channel 0 (ap_done)\n",
    "#          bit 1  - Channel 1 (ap_ready)\n",
    "#          others - reserved\n",
    "# 0x1000 : Data signal of num_nonzero_symbols\n",
    "#          bit 31~0 - num_nonzero_symbols[31:0] (Read)\n",
    "# 0x1004 : Control signal of num_nonzero_symbols\n",
    "#          bit 0  - num_nonzero_symbols_ap_vld (Read/COR)\n",
    "#          others - reserved\n",
    "# 0x0400 ~\n",
    "# 0x07ff : Memory 'symbol_histogram_value_V' (256 * 32b)\n",
    "#          Word n : bit [31:0] - symbol_histogram_value_V[n]\n",
    "# 0x0800 ~\n",
    "# 0x0bff : Memory 'symbol_histogram_frequency_V' (256 * 32b)\n",
    "#          Word n : bit [31:0] - symbol_histogram_frequency_V[n]\n",
    "# 0x0c00 ~\n",
    "# 0x0fff : Memory 'encoding_V' (256 * 32b)\n",
    "#          Word n : bit [31:0] - encoding_V[n]\n",
    "# (SC = Self Clear, COR = Clear on Read, TOW = Toggle on Write, COH = Clear on Handshake)\n",
    "\n",
    "from pynq import Overlay\n",
    "\n",
    "overlay = Overlay(\"../bitstream/huffman-encoding-test.bit\")\n",
    "overlay.download()\n",
    "\n",
    "huffman_encoding = overlay.huffman_encoding_0\n",
    "\n",
    "symbol_table = [\n",
    "    { 'symbol': 'a', 'freq': 3 },\n",
    "    { 'symbol': 'b', 'freq': 1 },\n",
    "    { 'symbol': 'c', 'freq': 2 },\n",
    "    { 'symbol': 'd', 'freq': 5 },\n",
    "    { 'symbol': 'e', 'freq': 5 },\n",
    "    { 'symbol': 'f', 'freq': 1 },\n",
    "    { 'symbol': 'g', 'freq': 0 },\n",
    "]\n",
    "\n",
    "for idx, sym in enumerate(symbol_table):\n",
    "    # write symbol & frequency\n",
    "    huffman_encoding.write(0x0400 + 4*idx, ord(sym['symbol']))\n",
    "    huffman_encoding.write(0x0800 + 4*idx, sym['freq'])\n",
    "    \n",
    "# start\n",
    "huffman_encoding.write(0x0000, 1)\n",
    "\n",
    "from time import sleep\n",
    "\n",
    "sleep(1)\n",
    "\n",
    "# read number of symbols\n",
    "num = huffman_encoding.read(0x1000)\n",
    "print('There are ' + str(num) + ' symbols in huffman tree:')\n",
    "\n",
    "# read encoding\n",
    "get_bin = lambda x, n: format(x, 'b').zfill(n)\n",
    "for idx, sym in enumerate(symbol_table):\n",
    "    encoding = huffman_encoding.read(0x0c00 + 4*ord(sym['symbol']))\n",
    "    print('symbol : ' + sym['symbol'] + ', code word : ' + get_bin(encoding, 32))"
   ]
  }
 ],
 "metadata": {
  "kernelspec": {
   "display_name": "Python 3",
   "language": "python",
   "name": "python3"
  },
  "language_info": {
   "codemirror_mode": {
    "name": "ipython",
    "version": 3
   },
   "file_extension": ".py",
   "mimetype": "text/x-python",
   "name": "python",
   "nbconvert_exporter": "python",
   "pygments_lexer": "ipython3",
   "version": "3.6.0"
  }
 },
 "nbformat": 4,
 "nbformat_minor": 2
}
