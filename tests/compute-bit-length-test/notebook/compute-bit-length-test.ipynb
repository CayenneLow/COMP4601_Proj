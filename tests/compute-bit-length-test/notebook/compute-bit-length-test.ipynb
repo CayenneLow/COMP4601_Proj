{
 "cells": [
  {
   "cell_type": "code",
   "execution_count": 1,
   "metadata": {},
   "outputs": [
    {
     "data": {
      "application/javascript": [
       "\n",
       "require(['notebook/js/codecell'], function(codecell) {\n",
       "  codecell.CodeCell.options_default.highlight_modes[\n",
       "      'magic_text/x-csrc'] = {'reg':[/^%%microblaze/]};\n",
       "  Jupyter.notebook.events.one('kernel_ready.Kernel', function(){\n",
       "      Jupyter.notebook.get_cells().map(function(cell){\n",
       "          if (cell.cell_type == 'code'){ cell.auto_highlight(); } }) ;\n",
       "  });\n",
       "});\n"
      ]
     },
     "metadata": {},
     "output_type": "display_data"
    },
    {
     "name": "stdout",
     "output_type": "stream",
     "text": [
      "L : 2 N : 3\n",
      "L : 3 N : 1\n",
      "L : 4 N : 2\n"
     ]
    }
   ],
   "source": [
    "# AXILiteS\n",
    "# 0x0000 : Control signals\n",
    "#          bit 0  - ap_start (Read/Write/COH)\n",
    "#          bit 1  - ap_done (Read/COR)\n",
    "#          bit 2  - ap_idle (Read)\n",
    "#          bit 3  - ap_ready (Read)\n",
    "#          bit 7  - auto_restart (Read/Write)\n",
    "#          others - reserved\n",
    "# 0x0004 : Global Interrupt Enable Register\n",
    "#          bit 0  - Global Interrupt Enable (Read/Write)\n",
    "#          others - reserved\n",
    "# 0x0008 : IP Interrupt Enable Register (Read/Write)\n",
    "#          bit 0  - Channel 0 (ap_done)\n",
    "#          bit 1  - Channel 1 (ap_ready)\n",
    "#          others - reserved\n",
    "# 0x000c : IP Interrupt Status Register (Read/TOW)\n",
    "#          bit 0  - Channel 0 (ap_done)\n",
    "#          bit 1  - Channel 1 (ap_ready)\n",
    "#          others - reserved\n",
    "# 0x1000 : Data signal of num_symbols\n",
    "#          bit 31~0 - num_symbols[31:0] (Read/Write)\n",
    "# 0x1004 : reserved\n",
    "# 0x0400 ~\n",
    "# 0x07ff : Memory 'parent_V' (255 * 32b)\n",
    "#          Word n : bit [31:0] - parent_V[n]\n",
    "# 0x0800 ~\n",
    "# 0x0bff : Memory 'left_V' (255 * 32b)\n",
    "#          Word n : bit [31:0] - left_V[n]\n",
    "# 0x0c00 ~\n",
    "# 0x0fff : Memory 'right_V' (255 * 32b)\n",
    "#          Word n : bit [31:0] - right_V[n]\n",
    "# 0x1100 ~\n",
    "# 0x11ff : Memory 'length_histogram_V' (64 * 32b)\n",
    "#          Word n : bit [31:0] - length_histogram_V[n]\n",
    "# (SC = Self Clear, COR = Clear on Read, TOW = Toggle on Write, COH = Clear on Handshake)\n",
    "\n",
    "from pynq import Overlay\n",
    "\n",
    "overlay = Overlay(\"../bitstream/compute-bit-length-test.bit\")\n",
    "overlay.download()\n",
    "\n",
    "compute_bit_len = overlay.compute_bit_length_0\n",
    "\n",
    "# set symbol numbers\n",
    "compute_bit_len.write(0x1000, 6)\n",
    "\n",
    "# given tree\n",
    "# pos : 0 parent : 1\n",
    "#         lchild : 102\n",
    "#         rchild : 98\n",
    "# pos : 1 parent : 2\n",
    "#         lchild : 99\n",
    "#         rchild : 4294967295\n",
    "# pos : 2 parent : 4\n",
    "#         lchild : 97\n",
    "#         rchild : 4294967295\n",
    "# pos : 3 parent : 4\n",
    "#         lchild : 100\n",
    "#         rchild : 101\n",
    "# pos : 4 parent : 0\n",
    "#         lchild : 4294967295\n",
    "#         rchild : 4294967295\n",
    "\n",
    "tree_nodes = [\n",
    "    { 'p': 1, 'l': 102, 'r':  98 },\n",
    "    { 'p': 2, 'l':  99, 'r':  -1 },\n",
    "    { 'p': 4, 'l':  97, 'r':  -1 },\n",
    "    { 'p': 4, 'l': 100, 'r': 101 },\n",
    "    { 'p': 0, 'l':  -1, 'r':  -1 },\n",
    "]\n",
    "\n",
    "for idx, node in enumerate(tree_nodes):\n",
    "    # write parent\n",
    "    compute_bit_len.write(0x0400 + 4*idx, node['p'])\n",
    "    # write left & right child\n",
    "    compute_bit_len.write(0x0800 + 4*idx, node['l'])\n",
    "    compute_bit_len.write(0x0c00 + 4*idx, node['r'])\n",
    "\n",
    "# start\n",
    "compute_bit_len.write(0x0000, 1)\n",
    "\n",
    "from time import sleep\n",
    "\n",
    "sleep(1)\n",
    "\n",
    "for i in range(10):\n",
    "    bit_len = compute_bit_len.read(0x1100 + 4*i)\n",
    "    if (not bit_len == 0):\n",
    "        print('L : ' + str(i) + ' N : ' + str(bit_len))"
   ]
  },
  {
   "cell_type": "code",
   "execution_count": null,
   "metadata": {},
   "outputs": [],
   "source": []
  }
 ],
 "metadata": {
  "kernelspec": {
   "display_name": "Python 3",
   "language": "python",
   "name": "python3"
  },
  "language_info": {
   "codemirror_mode": {
    "name": "ipython",
    "version": 3
   },
   "file_extension": ".py",
   "mimetype": "text/x-python",
   "name": "python",
   "nbconvert_exporter": "python",
   "pygments_lexer": "ipython3",
   "version": "3.6.0"
  }
 },
 "nbformat": 4,
 "nbformat_minor": 2
}
