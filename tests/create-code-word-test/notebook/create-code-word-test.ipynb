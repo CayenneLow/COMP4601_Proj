{
 "cells": [
  {
   "cell_type": "code",
   "execution_count": 1,
   "metadata": {
    "scrolled": false
   },
   "outputs": [
    {
     "data": {
      "application/javascript": [
       "\n",
       "require(['notebook/js/codecell'], function(codecell) {\n",
       "  codecell.CodeCell.options_default.highlight_modes[\n",
       "      'magic_text/x-csrc'] = {'reg':[/^%%microblaze/]};\n",
       "  Jupyter.notebook.events.one('kernel_ready.Kernel', function(){\n",
       "      Jupyter.notebook.get_cells().map(function(cell){\n",
       "          if (cell.cell_type == 'code'){ cell.auto_highlight(); } }) ;\n",
       "  });\n",
       "});\n"
      ]
     },
     "metadata": {},
     "output_type": "display_data"
    },
    {
     "name": "stdout",
     "output_type": "stream",
     "text": [
      "symbol : a, code word : 00000000000000000000000000000010\n",
      "symbol : b, code word : 00000000000000000000000011100100\n",
      "symbol : c, code word : 00000000000000000000000001100011\n",
      "symbol : d, code word : 00000000000000000000000001000010\n",
      "symbol : e, code word : 00000000000000000000000000100010\n",
      "symbol : f, code word : 00000000000000000000000111100100\n"
     ]
    }
   ],
   "source": [
    "# AXILiteS\n",
    "# 0x000 : Control signals\n",
    "#         bit 0  - ap_start (Read/Write/COH)\n",
    "#         bit 1  - ap_done (Read/COR)\n",
    "#         bit 2  - ap_idle (Read)\n",
    "#         bit 3  - ap_ready (Read)\n",
    "#         bit 7  - auto_restart (Read/Write)\n",
    "#         others - reserved\n",
    "# 0x004 : Global Interrupt Enable Register\n",
    "#         bit 0  - Global Interrupt Enable (Read/Write)\n",
    "#         others - reserved\n",
    "# 0x008 : IP Interrupt Enable Register (Read/Write)\n",
    "#         bit 0  - Channel 0 (ap_done)\n",
    "#         bit 1  - Channel 1 (ap_ready)\n",
    "#         others - reserved\n",
    "# 0x00c : IP Interrupt Status Register (Read/TOW)\n",
    "#         bit 0  - Channel 0 (ap_done)\n",
    "#         bit 1  - Channel 1 (ap_ready)\n",
    "#         others - reserved\n",
    "# 0x100 ~\n",
    "# 0x1ff : Memory 'symbol_bits_V' (256 * 5b)\n",
    "#         Word n : bit [ 4: 0] - symbol_bits_V[4n]\n",
    "#                  bit [12: 8] - symbol_bits_V[4n+1]\n",
    "#                  bit [20:16] - symbol_bits_V[4n+2]\n",
    "#                  bit [28:24] - symbol_bits_V[4n+3]\n",
    "#                  others      - reserved\n",
    "# 0x200 ~\n",
    "# 0x2ff : Memory 'codeword_length_histogram_V' (64 * 32b)\n",
    "#         Word n : bit [31:0] - codeword_length_histogram_V[n]\n",
    "# 0x400 ~\n",
    "# 0x7ff : Memory 'encoding_V' (256 * 32b)\n",
    "#         Word n : bit [31:0] - encoding_V[n]\n",
    "# (SC = Self Clear, COR = Clear on Read, TOW = Toggle on Write, COH = Clear on Handshake)\n",
    "\n",
    "from pynq import Overlay\n",
    "\n",
    "overlay = Overlay(\"../bitstream/create-code-word-test.bit\")\n",
    "overlay.download()\n",
    "\n",
    "create_codeword = overlay.create_codeword_0\n",
    "\n",
    "# write symbol bits\n",
    "create_codeword.write(0x100 + 4*24, 50594304)\n",
    "create_codeword.write(0x100 + 4*25, 262658  )\n",
    "\n",
    "# create code word len histogram\n",
    "# code_word_len_histo = [\n",
    "#     { 'symbol': 'a', 'len': 2 },\n",
    "#     { 'symbol': 'd', 'len': 2 },\n",
    "#     { 'symbol': 'e', 'len': 2 },\n",
    "#     { 'symbol': 'c', 'len': 3 },\n",
    "#     { 'symbol': 'b', 'len': 4 },\n",
    "#     { 'symbol': 'f', 'len': 4 },\n",
    "# ]\n",
    "\n",
    "symbols = [ 'a', 'b', 'c', 'd', 'e', 'f' ]\n",
    "code_word_len_histo = [ 0, 0, 3, 1, 2 ]\n",
    "\n",
    "# code_word_len_histo = [\n",
    "#     { 'symbol': 'a', 'len': 2 },\n",
    "#     { 'symbol': 'b', 'len': 4 },\n",
    "#     { 'symbol': 'c', 'len': 3 },\n",
    "#     { 'symbol': 'd', 'len': 2 },\n",
    "#     { 'symbol': 'e', 'len': 2 },\n",
    "#     { 'symbol': 'f', 'len': 4 },\n",
    "# ]\n",
    "\n",
    "for idx, num in enumerate(code_word_len_histo):\n",
    "    create_codeword.write(0x200 + 4*idx, num)\n",
    "    \n",
    "# start\n",
    "create_codeword.write(0x000, 1)\n",
    "\n",
    "from time import sleep\n",
    "\n",
    "sleep(1)\n",
    "\n",
    "get_bin = lambda x, n: format(x, 'b').zfill(n)\n",
    "\n",
    "for sym in symbols:\n",
    "    encoding = create_codeword.read(0x400 + 4*ord(sym))\n",
    "    print('symbol : ' + sym + ', code word : ' + get_bin(encoding, 32))"
   ]
  }
 ],
 "metadata": {
  "kernelspec": {
   "display_name": "Python 3",
   "language": "python",
   "name": "python3"
  },
  "language_info": {
   "codemirror_mode": {
    "name": "ipython",
    "version": 3
   },
   "file_extension": ".py",
   "mimetype": "text/x-python",
   "name": "python",
   "nbconvert_exporter": "python",
   "pygments_lexer": "ipython3",
   "version": "3.6.0"
  }
 },
 "nbformat": 4,
 "nbformat_minor": 2
}
